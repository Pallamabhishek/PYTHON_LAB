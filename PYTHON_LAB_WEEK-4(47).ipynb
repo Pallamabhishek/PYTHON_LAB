{
 "cells": [
  {
   "cell_type": "code",
   "execution_count": 1,
   "id": "1c7a3980-2ae2-49ed-825f-d9db33c42d3b",
   "metadata": {},
   "outputs": [
    {
     "name": "stdout",
     "output_type": "stream",
     "text": [
      "True\n",
      "False\n"
     ]
    }
   ],
   "source": [
    "def is_sorted(input_list):\n",
    "    for i in range(len(input_list) - 1):\n",
    "        if input_list[i] > input_list[i + 1]:\n",
    "            return False\n",
    "    return True\n",
    "list1 = [1, 2, 3, 4, 5]\n",
    "list2 = [5, 3, 8, 2, 10]\n",
    "\n",
    "print(is_sorted(list1))  \n",
    "print(is_sorted(list2))"
   ]
  },
  {
   "cell_type": "code",
   "execution_count": 2,
   "id": "cbcceb82-8aa7-4819-b490-c9b2830a3057",
   "metadata": {},
   "outputs": [
    {
     "name": "stdout",
     "output_type": "stream",
     "text": [
      "True\n"
     ]
    }
   ],
   "source": [
    "def as_duplicate(list1):\n",
    "    a=len(list1)\n",
    "    for i in range(0,a+1):\n",
    "        for j in range(i+1,a):\n",
    "            if(list1[i]==list1[j]):\n",
    "                return True\n",
    "    return False\n",
    "list1=[1,2,6,4,5,1]\n",
    "c=as_duplicate(list1)\n",
    "print(c)"
   ]
  },
  {
   "cell_type": "code",
   "execution_count": 3,
   "id": "f708f4dd-ba1f-4e10-8888-d0d97f91a77d",
   "metadata": {},
   "outputs": [
    {
     "name": "stdout",
     "output_type": "stream",
     "text": [
      "[2, 3, 5, 6, 8, 9]\n"
     ]
    }
   ],
   "source": [
    "def remove_duplicates(input_list):\n",
    "    unique_list = list(set(input_list))\n",
    "    return unique_list\n",
    "original_list = [2, 3, 2, 5, 6, 5, 8, 2, 9]\n",
    "new_list = remove_duplicates(original_list)\n",
    "print(new_list)"
   ]
  },
  {
   "cell_type": "code",
   "execution_count": 4,
   "id": "166726a1-3fbc-4fd3-a2a5-669573afef06",
   "metadata": {},
   "outputs": [
    {
     "name": "stdout",
     "output_type": "stream",
     "text": [
      "{1: 'a', 2: 'b', 3: 'c'}\n"
     ]
    }
   ],
   "source": [
    "original_dict = {'a': 1, 'b': 2, 'c': 3}\n",
    "interchanged_dict = {value: key for key, value in original_dict.items()}\n",
    "\n",
    "print(interchanged_dict)"
   ]
  },
  {
   "cell_type": "code",
   "execution_count": 5,
   "id": "bcc19f4c-2347-4886-bd92-045ad539783d",
   "metadata": {},
   "outputs": [
    {
     "name": "stdout",
     "output_type": "stream",
     "text": [
      "a,p,p,l,e\n"
     ]
    }
   ],
   "source": [
    "x=\"apple\"\n",
    "y=','.join(x)\n",
    "print(y)"
   ]
  },
  {
   "cell_type": "code",
   "execution_count": 6,
   "id": "78f217e2-1495-4299-8e06-eb1765df3c35",
   "metadata": {},
   "outputs": [
    {
     "name": "stdout",
     "output_type": "stream",
     "text": [
      "Th  just a test.\n"
     ]
    }
   ],
   "source": [
    "x=\"This is just a test.\"\n",
    "y=x.replace(\"is\",\"\")\n",
    "print(y)"
   ]
  },
  {
   "cell_type": "code",
   "execution_count": 7,
   "id": "f1b77695-6014-43b7-b284-8e20c1fd9091",
   "metadata": {},
   "outputs": [
    {
     "name": "stdin",
     "output_type": "stream",
     "text": [
      "Enter a sentence:  hi this is abhi\n"
     ]
    },
    {
     "name": "stdout",
     "output_type": "stream",
     "text": [
      "Hi This Is Abhi\n"
     ]
    }
   ],
   "source": [
    "def capitalizing(sentence):\n",
    "    words = sentence.split()\n",
    "    cap_words=[]\n",
    "    for i in words:\n",
    "        cap_words.append(i.capitalize())\n",
    "    cap_sentence = ' '.join(cap_words)\n",
    "    print(cap_sentence)\n",
    "input_sentence = input(\"Enter a sentence: \")\n",
    "capitalizing(input_sentence)"
   ]
  },
  {
   "cell_type": "code",
   "execution_count": null,
   "id": "caf2d0ce-67e4-406f-be73-2d2631c00004",
   "metadata": {},
   "outputs": [],
   "source": []
  }
 ],
 "metadata": {
  "kernelspec": {
   "display_name": "Python 3 (ipykernel)",
   "language": "python",
   "name": "python3"
  },
  "language_info": {
   "codemirror_mode": {
    "name": "ipython",
    "version": 3
   },
   "file_extension": ".py",
   "mimetype": "text/x-python",
   "name": "python",
   "nbconvert_exporter": "python",
   "pygments_lexer": "ipython3",
   "version": "3.12.5"
  }
 },
 "nbformat": 4,
 "nbformat_minor": 5
}
