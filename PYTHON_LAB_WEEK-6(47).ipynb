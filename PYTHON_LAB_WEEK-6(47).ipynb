{
 "cells": [
  {
   "cell_type": "code",
   "execution_count": 3,
   "id": "6bd4a092-bf88-4966-8878-b0ee977aae75",
   "metadata": {},
   "outputs": [
    {
     "name": "stdin",
     "output_type": "stream",
     "text": [
      "enter an number 3\n",
      "enter other number 0\n"
     ]
    },
    {
     "name": "stdout",
     "output_type": "stream",
     "text": [
      "Division by zero is not accepted\n"
     ]
    }
   ],
   "source": [
    "try:\n",
    "    num1=int(input(\"enter an number\"))\n",
    "    num2=int(input(\"enter other number\"))\n",
    "    result=num1/num2\n",
    "    print(\"result:\",result)\n",
    "except ZeroDivisionError:\n",
    "    print(\"Division by zero is not accepted\")\n",
    "except ValueError:\n",
    "    print(\"enter only integers\")\n",
    "except Exception as e:\n",
    "    print(\"an error occured\",str(e))\n"
   ]
  },
  {
   "cell_type": "code",
   "execution_count": 4,
   "id": "eb6fe33d-99d4-4473-8f8b-52bfcbcae366",
   "metadata": {},
   "outputs": [
    {
     "name": "stdin",
     "output_type": "stream",
     "text": [
      "enter the age 4\n"
     ]
    },
    {
     "name": "stdout",
     "output_type": "stream",
     "text": [
      "not a valid age\n"
     ]
    }
   ],
   "source": [
    "def voter_age(age):\n",
    "    try:\n",
    "        num=int(age)\n",
    "        if(num>18):\n",
    "            print(\"valid age\")\n",
    "        elif(num<18):\n",
    "            print(\"not a valid age\")\n",
    "    except Exception as e:\n",
    "        print(\"enter only integers:\",str(e))\n",
    "num=input(\"enter the age\")\n",
    "voter_age(num)"
   ]
  },
  {
   "cell_type": "code",
   "execution_count": 5,
   "id": "f8788bf0-5a89-46b3-9fb3-d273b50ca77b",
   "metadata": {},
   "outputs": [
    {
     "name": "stdin",
     "output_type": "stream",
     "text": [
      "enter students marks 4\n"
     ]
    },
    {
     "name": "stdout",
     "output_type": "stream",
     "text": [
      "valid number\n"
     ]
    }
   ],
   "source": [
    "def students_mark(marks):\n",
    "    try:\n",
    "        num=int(marks)\n",
    "        if(num>0):\n",
    "            print(\"valid number\")\n",
    "        elif(num<0 or num==0):\n",
    "            print(\"not valid\")\n",
    "    except Exception as e:\n",
    "        print(\"enter only integers :\",str(e))\n",
    "num=input(\"enter students marks\")\n",
    "students_mark(num)"
   ]
  },
  {
   "cell_type": "code",
   "execution_count": null,
   "id": "647b02f4-d10f-4a96-bdd8-b4f179460442",
   "metadata": {},
   "outputs": [],
   "source": [
    "try:\n",
    "    num1=int(input(\"enter a number\"))\n",
    "    num2=int(input(\"enter other number\"))\n",
    "    result=num1/num2\n",
    "    print(\"result : \",result)\n",
    "except Exception as e:\n",
    "    print(\"error occured :\",str(e))\n",
    "else:\n",
    "    print(\"division successful\")\n",
    "finally:\n",
    "    print(\"program completed successfully\")"
   ]
  },
  {
   "cell_type": "code",
   "execution_count": null,
   "id": "df90c974-da6b-4d46-b0e1-13941e6383d3",
   "metadata": {},
   "outputs": [],
   "source": []
  }
 ],
 "metadata": {
  "kernelspec": {
   "display_name": "Python 3 (ipykernel)",
   "language": "python",
   "name": "python3"
  },
  "language_info": {
   "codemirror_mode": {
    "name": "ipython",
    "version": 3
   },
   "file_extension": ".py",
   "mimetype": "text/x-python",
   "name": "python",
   "nbconvert_exporter": "python",
   "pygments_lexer": "ipython3",
   "version": "3.12.5"
  }
 },
 "nbformat": 4,
 "nbformat_minor": 5
}
