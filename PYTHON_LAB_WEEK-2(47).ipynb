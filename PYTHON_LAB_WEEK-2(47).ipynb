{
 "cells": [
  {
   "cell_type": "code",
   "execution_count": 1,
   "id": "d50ad524-fb7a-4fa3-8a0f-2ed7548d5ee2",
   "metadata": {},
   "outputs": [
    {
     "name": "stdout",
     "output_type": "stream",
     "text": [
      "5 \n",
      "\n",
      "4 4 \n",
      "\n",
      "3 3 3 \n",
      "\n",
      "2 2 2 2 \n",
      "\n",
      "1 1 1 1 1 \n",
      "\n"
     ]
    }
   ],
   "source": [
    "num=5\n",
    "for i in range(0,5):\n",
    "    for j in range(0,i+1):\n",
    "        print(num,end=\" \")\n",
    "    print(\"\\n\")\n",
    "    num=num-1"
   ]
  },
  {
   "cell_type": "code",
   "execution_count": 2,
   "id": "adbeba80-c987-4522-80f1-628d5a4dc854",
   "metadata": {},
   "outputs": [
    {
     "name": "stdin",
     "output_type": "stream",
     "text": [
      "enter any element @\n"
     ]
    },
    {
     "name": "stdout",
     "output_type": "stream",
     "text": [
      "special characters\n"
     ]
    }
   ],
   "source": [
    "a=input(\"enter any element\")\n",
    "if a.islower():\n",
    "    print(\"given input is of lower case characters\")\n",
    "elif a.isupper():\n",
    "    print(\"given input is of upper case characters\")\n",
    "elif a.isalnum():\n",
    "    print(\"Given input are numbers\")\n",
    "else:\n",
    "    print(\"special characters\")"
   ]
  },
  {
   "cell_type": "code",
   "execution_count": 3,
   "id": "f00d5a2c-50d5-42ee-9b5d-6ad07e26f659",
   "metadata": {},
   "outputs": [
    {
     "name": "stdin",
     "output_type": "stream",
     "text": [
      "enter the number of elements in fibonacci series 9\n"
     ]
    },
    {
     "name": "stdout",
     "output_type": "stream",
     "text": [
      "0\n",
      "1\n",
      "1\n",
      "2\n",
      "3\n",
      "5\n",
      "8\n",
      "13\n",
      "21\n"
     ]
    }
   ],
   "source": [
    "#fibonacci series\n",
    "a=int(input(\"enter the number of elements in fibonacci series\"))\n",
    "l=0\n",
    "i=0\n",
    "j=1\n",
    "k=i+j\n",
    "for l in range(0,a):\n",
    "    print(i)\n",
    "    i=j\n",
    "    j=k\n",
    "    k=i+j"
   ]
  },
  {
   "cell_type": "code",
   "execution_count": 4,
   "id": "686ebb2f-0a51-43a6-b9a5-be2ded65c4b4",
   "metadata": {},
   "outputs": [
    {
     "name": "stdin",
     "output_type": "stream",
     "text": [
      "enter the lowest  range 1\n",
      "enter the upper range 30\n"
     ]
    },
    {
     "name": "stdout",
     "output_type": "stream",
     "text": [
      "2  is a prime number\n",
      "3  is a prime number\n",
      "5  is a prime number\n",
      "7  is a prime number\n",
      "11  is a prime number\n",
      "13  is a prime number\n",
      "17  is a prime number\n",
      "19  is a prime number\n",
      "23  is a prime number\n",
      "29  is a prime number\n"
     ]
    }
   ],
   "source": [
    "count=0\n",
    "a=int(input(\"enter the lowest  range\"))\n",
    "b=int(input(\"enter the upper range\"))\n",
    "for n in range(a,b):\n",
    "    if(n>0):\n",
    "        for j in range(1,n+1):\n",
    "            if(n%j==0):\n",
    "                count=count+1\n",
    "                        \n",
    "        if(count==2):\n",
    "            print(n,\" is a prime number\")\n",
    "        count=0\n",
    "    else:\n",
    "        break"
   ]
  },
  {
   "cell_type": "code",
   "execution_count": 6,
   "id": "7a7d21a3-14f9-44aa-82ee-2ee5a1612d3a",
   "metadata": {},
   "outputs": [
    {
     "name": "stdin",
     "output_type": "stream",
     "text": [
      "Enter a number:  2\n",
      "Enter another number:  2\n"
     ]
    },
    {
     "name": "stdout",
     "output_type": "stream",
     "text": [
      "LCM of the given numbers: 2\n"
     ]
    }
   ],
   "source": [
    "import math as m\n",
    "num1 = int(input(\"Enter a number: \"))\n",
    "num2 = int(input(\"Enter another number: \"))\n",
    "HCF = m.gcd(num1, num2)\n",
    "LCM = int((num1 * num2) / HCF)\n",
    "print(\"LCM of the given numbers:\", LCM)\n"
   ]
  },
  {
   "cell_type": "code",
   "execution_count": 8,
   "id": "d4257ed7-90a6-4088-b409-d8a2755a718d",
   "metadata": {},
   "outputs": [
    {
     "ename": "ValueError",
     "evalue": "could not convert string to float: '-f'",
     "output_type": "error",
     "traceback": [
      "\u001b[1;31m---------------------------------------------------------------------------\u001b[0m",
      "\u001b[1;31mValueError\u001b[0m                                Traceback (most recent call last)",
      "Cell \u001b[1;32mIn[8], line 2\u001b[0m\n\u001b[0;32m      1\u001b[0m \u001b[38;5;28;01mimport\u001b[39;00m \u001b[38;5;21;01msys\u001b[39;00m \u001b[38;5;28;01mas\u001b[39;00m \u001b[38;5;21;01ms\u001b[39;00m\n\u001b[1;32m----> 2\u001b[0m \u001b[38;5;28msum\u001b[39m \u001b[38;5;241m=\u001b[39m \u001b[38;5;28;43mfloat\u001b[39;49m\u001b[43m(\u001b[49m\u001b[43ms\u001b[49m\u001b[38;5;241;43m.\u001b[39;49m\u001b[43margv\u001b[49m\u001b[43m[\u001b[49m\u001b[38;5;241;43m1\u001b[39;49m\u001b[43m]\u001b[49m\u001b[43m)\u001b[49m \u001b[38;5;241m+\u001b[39m \u001b[38;5;28mfloat\u001b[39m(s\u001b[38;5;241m.\u001b[39margv[\u001b[38;5;241m2\u001b[39m])\n\u001b[0;32m      3\u001b[0m \u001b[38;5;28mprint\u001b[39m(\u001b[38;5;124m\"\u001b[39m\u001b[38;5;124mSum is:\u001b[39m\u001b[38;5;124m\"\u001b[39m, \u001b[38;5;28msum\u001b[39m)\n",
      "\u001b[1;31mValueError\u001b[0m: could not convert string to float: '-f'"
     ]
    }
   ],
   "source": [
    "import sys as s\n",
    "sum = float(s.argv[1]) + float(s.argv[2])\n",
    "print(\"Sum is:\", sum)\n"
   ]
  },
  {
   "cell_type": "code",
   "execution_count": null,
   "id": "d8a90bdd-0dc6-433c-83aa-0714a787b28b",
   "metadata": {},
   "outputs": [],
   "source": []
  }
 ],
 "metadata": {
  "kernelspec": {
   "display_name": "Python 3 (ipykernel)",
   "language": "python",
   "name": "python3"
  },
  "language_info": {
   "codemirror_mode": {
    "name": "ipython",
    "version": 3
   },
   "file_extension": ".py",
   "mimetype": "text/x-python",
   "name": "python",
   "nbconvert_exporter": "python",
   "pygments_lexer": "ipython3",
   "version": "3.12.5"
  }
 },
 "nbformat": 4,
 "nbformat_minor": 5
}
