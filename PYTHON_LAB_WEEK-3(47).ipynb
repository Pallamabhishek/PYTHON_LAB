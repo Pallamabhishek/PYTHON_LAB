{
 "cells": [
  {
   "cell_type": "code",
   "execution_count": 2,
   "id": "16c9babf-9ad7-466c-8f79-88032da9f4b6",
   "metadata": {},
   "outputs": [
    {
     "name": "stdout",
     "output_type": "stream",
     "text": [
      "list_array: array('i', [1, 2, 3])\n",
      "tuple_array: array('i', [4, 9, 0])\n"
     ]
    }
   ],
   "source": [
    "from array import array\n",
    "list = [1, 2, 3]\n",
    "list_array = array(\"i\", list)\n",
    "print(\"list_array:\", list_array)\n",
    "tuple = (4, 9, 0)\n",
    "tuple_array = array(\"i\", tuple)\n",
    "print(\"tuple_array:\", tuple_array)\n"
   ]
  },
  {
   "cell_type": "code",
   "execution_count": 3,
   "id": "f4023a8c-0cc4-4653-a60c-8dec591bdf3a",
   "metadata": {},
   "outputs": [
    {
     "name": "stdout",
     "output_type": "stream",
     "text": [
      "{8}\n"
     ]
    }
   ],
   "source": [
    "from array import *\n",
    "array1=array('i',[7,8,9,8])\n",
    "array2=array('i',[23,33,11,8])\n",
    "common_values=[]\n",
    "for i in array1:\n",
    "    for j in array2:\n",
    "        if i==j:\n",
    "            common_values.append(i)\n",
    "common_values=set(common_values)\n",
    "print(common_values)"
   ]
  },
  {
   "cell_type": "code",
   "execution_count": 4,
   "id": "de1075f8-fcbf-465f-9e37-7a947d92ff3d",
   "metadata": {},
   "outputs": [
    {
     "name": "stdout",
     "output_type": "stream",
     "text": [
      "GCD of 48 and 18 is: 6\n"
     ]
    }
   ],
   "source": [
    "def gcd(a, b):\n",
    "    while b:\n",
    "        a, b = b, a % b\n",
    "    return a\n",
    "num1 = 48\n",
    "num2 = 18\n",
    "result = gcd(num1, num2)\n",
    "print(\"GCD of\", num1, \"and\", num2, \"is:\", result)"
   ]
  },
  {
   "cell_type": "code",
   "execution_count": 6,
   "id": "64b04faa-2462-47d0-9eed-7be4b0654830",
   "metadata": {},
   "outputs": [
    {
     "name": "stdin",
     "output_type": "stream",
     "text": [
      "enter a string  sir\n"
     ]
    },
    {
     "name": "stdout",
     "output_type": "stream",
     "text": [
      "False\n"
     ]
    }
   ],
   "source": [
    "def palindrome(string):\n",
    "    \n",
    "    len_string=len(string)\n",
    "    for i in range(0,int(len_string/2)):\n",
    "        if(string[i]==string[len_string-1]):\n",
    "            len_string=len_string-1\n",
    "            return True\n",
    "        else:\n",
    "            return False\n",
    "a=input(\"enter a string \")\n",
    "c=palindrome(a)\n",
    "print(c)"
   ]
  },
  {
   "cell_type": "code",
   "execution_count": 7,
   "id": "95ff4ef1-9cfc-4f05-af16-e96d6800990a",
   "metadata": {},
   "outputs": [
    {
     "name": "stdin",
     "output_type": "stream",
     "text": [
      "enter the number of elements 5\n"
     ]
    },
    {
     "name": "stdout",
     "output_type": "stream",
     "text": [
      "enter the element\n"
     ]
    },
    {
     "name": "stdin",
     "output_type": "stream",
     "text": [
      " 2\n"
     ]
    },
    {
     "name": "stdout",
     "output_type": "stream",
     "text": [
      "enter the element\n"
     ]
    },
    {
     "name": "stdin",
     "output_type": "stream",
     "text": [
      " 4\n"
     ]
    },
    {
     "name": "stdout",
     "output_type": "stream",
     "text": [
      "enter the element\n"
     ]
    },
    {
     "name": "stdin",
     "output_type": "stream",
     "text": [
      " 2\n"
     ]
    },
    {
     "name": "stdout",
     "output_type": "stream",
     "text": [
      "enter the element\n"
     ]
    },
    {
     "name": "stdin",
     "output_type": "stream",
     "text": [
      " 5\n"
     ]
    },
    {
     "name": "stdout",
     "output_type": "stream",
     "text": [
      "enter the element\n"
     ]
    },
    {
     "name": "stdin",
     "output_type": "stream",
     "text": [
      " 1\n"
     ]
    },
    {
     "name": "stdout",
     "output_type": "stream",
     "text": [
      "2.8 =mean\n",
      "2 =mode\n",
      "2 =median\n"
     ]
    }
   ],
   "source": [
    "import statistics as s\n",
    "list=[]\n",
    "n=int(input(\"enter the number of elements\"))\n",
    "for i in range(0,n):\n",
    "    print(\"enter the element\")\n",
    "    elements=int(input())\n",
    "    list.append(elements)\n",
    "print(s.mean(list),\"=mean\")\n",
    "print(s.mode(list),\"=mode\")\n",
    "print(s.median(list),\"=median\")"
   ]
  },
  {
   "cell_type": "code",
   "execution_count": 11,
   "id": "8f731df9-f840-4b26-afd5-040f191b729d",
   "metadata": {},
   "outputs": [
    {
     "name": "stdout",
     "output_type": "stream",
     "text": [
      "Tuple 1: (1, 2, 3, 4, 5)\n",
      "Tuple 2: ()\n",
      "Tuple 3: (10,)\n",
      "Tuple 4: (6, 7, 8, 9, 10)\n",
      "Tuple 5: ('apple', 3.14, True)\n"
     ]
    }
   ],
   "source": [
    "tuple1 = (1, 2, 3, 4, 5)\n",
    "tuple2 = ()\n",
    "tuple3 = (10,)  \n",
    "tuple4 = (6, 7, 8, 9, 10) \n",
    "tuple5 = (\"apple\", 3.14, True) \n",
    "print(\"Tuple 1:\", tuple1)\n",
    "print(\"Tuple 2:\", tuple2)\n",
    "print(\"Tuple 3:\", tuple3)\n",
    "print(\"Tuple 4:\", tuple4)\n",
    "print(\"Tuple 5:\", tuple5)\n"
   ]
  },
  {
   "cell_type": "code",
   "execution_count": 12,
   "id": "52adcdbf-1d24-4e20-8606-8806fb723f8d",
   "metadata": {},
   "outputs": [
    {
     "name": "stdout",
     "output_type": "stream",
     "text": [
      "Tuple :  ('Apple', True, 30)\n"
     ]
    }
   ],
   "source": [
    "tuple1=(\"Apple\",True,30)\n",
    "print(\"Tuple : \",tuple1)"
   ]
  },
  {
   "cell_type": "code",
   "execution_count": null,
   "id": "66332455-c610-46d4-b2e7-9129d700b154",
   "metadata": {},
   "outputs": [],
   "source": [
    "a=input(\"enter the element you want to search in the tuple: \")\n",
    "tuple1=(\"Dog\",\"cat\",True,50,20)\n",
    "len_tuple1=len(tuple1)\n",
    "for i in range(0,len_tuple1):\n",
    "    if(a==tuple1[i]):\n",
    "        print(\"Element exist within the tuple\")"
   ]
  },
  {
   "cell_type": "code",
   "execution_count": null,
   "id": "72a9adbe-8bc9-4031-9592-9d1fb8f090cf",
   "metadata": {},
   "outputs": [],
   "source": []
  }
 ],
 "metadata": {
  "kernelspec": {
   "display_name": "Python 3 (ipykernel)",
   "language": "python",
   "name": "python3"
  },
  "language_info": {
   "codemirror_mode": {
    "name": "ipython",
    "version": 3
   },
   "file_extension": ".py",
   "mimetype": "text/x-python",
   "name": "python",
   "nbconvert_exporter": "python",
   "pygments_lexer": "ipython3",
   "version": "3.12.5"
  }
 },
 "nbformat": 4,
 "nbformat_minor": 5
}
