{
 "cells": [
  {
   "cell_type": "code",
   "execution_count": 1,
   "id": "5437136d-8d83-49d7-831a-bf9d2fa21ffa",
   "metadata": {},
   "outputs": [
    {
     "name": "stdin",
     "output_type": "stream",
     "text": [
      "enter a number 10\n",
      "enter a number 15\n"
     ]
    },
    {
     "name": "stdout",
     "output_type": "stream",
     "text": [
      "add: 25\n",
      "sub: -5\n",
      "multiplication: 150\n",
      "division: 0.6666666666666666\n"
     ]
    }
   ],
   "source": [
    " #Calculator\n",
    "a=int(input(\"enter a number\"))\n",
    "b=int(input(\"enter a number\"))\n",
    "print(\"add:\",a+b)\n",
    "print(\"sub:\",a-b)\n",
    "print(\"multiplication:\",a*b)\n",
    "print(\"division:\",a/b)"
   ]
  },
  {
   "cell_type": "code",
   "execution_count": 3,
   "id": "f8d38524-03a3-47af-b78e-55a443d239ad",
   "metadata": {},
   "outputs": [
    {
     "ename": "IndentationError",
     "evalue": "unexpected indent (4215796804.py, line 3)",
     "output_type": "error",
     "traceback": [
      "\u001b[1;36m  Cell \u001b[1;32mIn[3], line 3\u001b[1;36m\u001b[0m\n\u001b[1;33m    b=2\u001b[0m\n\u001b[1;37m    ^\u001b[0m\n\u001b[1;31mIndentationError\u001b[0m\u001b[1;31m:\u001b[0m unexpected indent\n"
     ]
    }
   ],
   "source": [
    "#Indentation Error \n",
    "a=5\n",
    "    b=2\n",
    "print(\"add:\",a+b)"
   ]
  },
  {
   "cell_type": "code",
   "execution_count": 9,
   "id": "93772822-b008-4de9-83cb-0cd6943a06a3",
   "metadata": {},
   "outputs": [
    {
     "name": "stdout",
     "output_type": "stream",
     "text": [
      "7\n"
     ]
    }
   ],
   "source": [
    "#correct program\n",
    "a=5\n",
    "b=2\n",
    "print(a+b)"
   ]
  },
  {
   "cell_type": "code",
   "execution_count": 10,
   "id": "fc833fc6-daf2-4915-b4ab-d8de2d2bc783",
   "metadata": {},
   "outputs": [
    {
     "name": "stdout",
     "output_type": "stream",
     "text": [
      "amount after time period 1061.208\n",
      "compound intrest: 61.208000000000084\n"
     ]
    }
   ],
   "source": [
    "#compound interest\n",
    "#p=principle,r=rate,t=time period,CI=compound interest,A=amount after time period\n",
    "p=1000\n",
    "r=2\n",
    "t=3\n",
    "A=p*((1+r/100)**t)\n",
    "CI=A-p\n",
    "print(\"amount after time period\",A)\n",
    "print(\"compound intrest:\",CI)"
   ]
  },
  {
   "cell_type": "code",
   "execution_count": 11,
   "id": "d5dc9400-d1a4-42c0-a737-244859b1bfd8",
   "metadata": {},
   "outputs": [
    {
     "name": "stdin",
     "output_type": "stream",
     "text": [
      "enter the x1 value 2\n",
      "enter the x2 value 3\n",
      "enter the y1 value 4\n",
      "enter the y2 value 5\n"
     ]
    },
    {
     "name": "stdout",
     "output_type": "stream",
     "text": [
      "distance between two given points is  1.4142135623730951\n"
     ]
    }
   ],
   "source": [
    "x1=int(input(\"enter the x1 value\"))\n",
    "x2=int(input(\"enter the x2 value\"))\n",
    "y1=int(input(\"enter the y1 value\"))\n",
    "y2=int(input(\"enter the y2 value\"))\n",
    "d=((x1-x2)**2+(y1-y2)**2)**(1/2)\n",
    "print(\"distance between two given points is \",d)"
   ]
  },
  {
   "cell_type": "code",
   "execution_count": 12,
   "id": "80314b1e-3d1e-4f03-b1fd-2107efc149c6",
   "metadata": {},
   "outputs": [
    {
     "name": "stdin",
     "output_type": "stream",
     "text": [
      "enter your name   ABHISHEK\n",
      "enter your email-id  : abhishekx@gmail.com\n",
      "enter your phone number  : 987877618\n",
      "enter your address : Sangareddy\n"
     ]
    },
    {
     "name": "stdout",
     "output_type": "stream",
     "text": [
      "Name: ABHISHEK\n",
      "Email-id: abhishekx@gmail.com\n",
      "Phone-no: 987877618\n",
      "Address: Sangareddy\n"
     ]
    }
   ],
   "source": [
    "name=input(\"enter your name  \")\n",
    "email_id=input(\"enter your email-id  :\")\n",
    "phone_no=int(input(\"enter your phone number  :\"))\n",
    "address=input(\"enter your address :\")\n",
    "print(\"Name:\",name)\n",
    "print(\"Email-id:\",email_id)\n",
    "print(\"Phone-no:\",phone_no)\n",
    "print(\"Address:\",address)"
   ]
  },
  {
   "cell_type": "code",
   "execution_count": null,
   "id": "140c25cd-3755-42cd-9492-272ca02ed946",
   "metadata": {},
   "outputs": [],
   "source": []
  }
 ],
 "metadata": {
  "kernelspec": {
   "display_name": "Python 3 (ipykernel)",
   "language": "python",
   "name": "python3"
  },
  "language_info": {
   "codemirror_mode": {
    "name": "ipython",
    "version": 3
   },
   "file_extension": ".py",
   "mimetype": "text/x-python",
   "name": "python",
   "nbconvert_exporter": "python",
   "pygments_lexer": "ipython3",
   "version": "3.12.5"
  }
 },
 "nbformat": 4,
 "nbformat_minor": 5
}
